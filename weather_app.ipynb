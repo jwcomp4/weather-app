{
 "cells": [
  {
   "cell_type": "code",
   "execution_count": null,
   "id": "d22f7a0a",
   "metadata": {},
   "outputs": [],
   "source": [
    "from datetime import datetime\n",
    "import requests\n",
    "import json\n",
    "import pandas as pd\n",
    "import plotly\n",
    "import plotly.express as px\n",
    "import os\n",
    "from PIL import Image\n",
    "import geopy\n",
    "from geopy.geocoders import GoogleV3\n",
    "import plotly.graph_objects as go\n",
    "# To be added as an environment variable: \n",
    "from config import key, GOOGLE_MAP_KEY"
   ]
  },
  {
   "cell_type": "code",
   "execution_count": null,
   "id": "d556f07a",
   "metadata": {},
   "outputs": [],
   "source": [
    "# start and end date function\n",
    "\n",
    "# wrap with a docstring and name \n",
    "\n",
    "# This function grabs today's date and converts it into the appropriate format for use in an API request for historic weather.\n",
    "# This function could be in a utils folder because it doesn't need anything from the user.\n",
    "# Note that the from datetime import datetime would also need to be in the utils folder.\n",
    "\n",
    "def start_end(year):\n",
    "    today = datetime.now()\n",
    "    if len(str(today.month)) < 2:\n",
    "        month = '0' + str(today.month)\n",
    "    else:\n",
    "        month = str(today.month)\n",
    "    if len(str(today.day)) < 2:\n",
    "        day = '0' + str(today.day)\n",
    "    else:\n",
    "        day = str(today.day)\n",
    "    start_date = year + '-' + month + '-' + day\n",
    "    end_date = start_date\n",
    "    return start_date, end_date\n"
   ]
  },
  {
   "cell_type": "code",
   "execution_count": null,
   "id": "7e171eef",
   "metadata": {},
   "outputs": [],
   "source": [
    "# This could be a radio button, range slider, dropdown, etc.\n",
    "\n",
    "historical_year = input(\"What year do you select? \")"
   ]
  },
  {
   "cell_type": "code",
   "execution_count": null,
   "id": "ffa7ba98",
   "metadata": {},
   "outputs": [],
   "source": [
    "# Passing the start and end dates through the start_end() funcion.\n",
    "# Setting them to the same allows for capturing a single day in the API request\n",
    "# This could be in the utils folder and the 2 variables imported into the app.\n",
    "start_date, end_date = start_end(historical_year)\n"
   ]
  },
  {
   "cell_type": "code",
   "execution_count": null,
   "id": "091fb847",
   "metadata": {},
   "outputs": [],
   "source": [
    "# Verifying appropriate format for API request\n",
    "# Unneccessary for the dash app.\n",
    "start_date"
   ]
  },
  {
   "cell_type": "code",
   "execution_count": null,
   "id": "3d4f420f",
   "metadata": {},
   "outputs": [],
   "source": [
    "# Capturing user's address for geocoding\n",
    "# This would be converted to a dcc.Input or mantine equivalent.\n",
    "# This could be an option if the user does not allow for geolocation.\n",
    "# Also consider a dropdown or radio that allows the user to choose between an address and geolocation.\n",
    "address = input(\"What is your address? \") "
   ]
  },
  {
   "cell_type": "code",
   "execution_count": null,
   "id": "8f3acca0",
   "metadata": {},
   "outputs": [],
   "source": [
    "# Establishing the geocoder\n",
    "# This could be done in a utils folder\n",
    "# Note that the necessary dependencies would also need to be included.\n",
    "# Source: https://towardsdatascience.com/geocode-with-python-161ec1e62b89\n",
    "# Source: https://geopy.readthedocs.io/en/stable/#module-geopy.geocoders\n",
    "locator = GoogleV3(api_key=GOOGLE_MAP_KEY, user_agent=\"newGeocoder\")"
   ]
  },
  {
   "cell_type": "code",
   "execution_count": null,
   "id": "4555b18c",
   "metadata": {},
   "outputs": [],
   "source": [
    "# Geocoding the user's address\n",
    "# This would need to happen in the body of the app\n",
    "location = locator.geocode(address)"
   ]
  },
  {
   "cell_type": "code",
   "execution_count": null,
   "id": "d191f7f0",
   "metadata": {},
   "outputs": [],
   "source": [
    "# setting lat and lon for address\n",
    "# This would need to happen in the body of the app\n",
    "lat = location.latitude\n",
    "lon = location.longitude"
   ]
  },
  {
   "cell_type": "code",
   "execution_count": null,
   "id": "4cac8f6c",
   "metadata": {},
   "outputs": [],
   "source": [
    "# This would all potentially need to take place in a callback associated with the address Input.\n",
    "# Think here: Could this be functionalized? Does it make sense to functionalize it?\n",
    "# Making the API requuest to open-meto\n",
    "hist_weather = requests.get(f\"https://archive-api.open-meteo.com/v1/archive?latitude={lat}&longitude={lon}&start_date={start_date}&end_date={end_date}&hourly=temperature_2m&daily=temperature_2m_max,temperature_2m_min&timezone=auto&temperature_unit=fahrenheit&windspeed_unit=mph&precipitation_unit=inch\").json()\n",
    "\n",
    "# Capturing the temperature:\n",
    "temp = hist_weather['hourly']['temperature_2m']\n",
    "# Capturing the time:\n",
    "time = hist_weather['hourly']['time']\n",
    "# Creating a dictionary to prep for a pandas dataframe:\n",
    "data = {'Hour': time, 'Temperature': temp}\n",
    "# Converting dictionary to a Pandas dataframe:\n",
    "hw_df = pd.DataFrame(data=data)\n",
    "    \n",
    "    "
   ]
  },
  {
   "cell_type": "code",
   "execution_count": null,
   "id": "c8d4e30b",
   "metadata": {},
   "outputs": [],
   "source": [
    "# Creating a line graph of the day's temperature.\n",
    "fig = px.line(hw_df, x='Hour', y='Temperature')\n",
    "fig"
   ]
  },
  {
   "cell_type": "code",
   "execution_count": null,
   "id": "2814e4fb",
   "metadata": {},
   "outputs": [],
   "source": [
    "print(lat,lon)"
   ]
  },
  {
   "cell_type": "code",
   "execution_count": null,
   "id": "5c3717c3",
   "metadata": {},
   "outputs": [],
   "source": [
    "print(hw_df.min())\n",
    "print(hw_df.max())\n"
   ]
  },
  {
   "cell_type": "code",
   "execution_count": null,
   "id": "ae110516",
   "metadata": {},
   "outputs": [],
   "source": [
    "hw_df"
   ]
  },
  {
   "cell_type": "code",
   "execution_count": null,
   "id": "7187416f",
   "metadata": {},
   "outputs": [],
   "source": [
    "# This data cleaning should be functionalized.\n",
    "# Would then call the function from within a callback function.\n",
    "clean_hw = hw_df['Hour'].str.split(\"T\", expand=True)\n",
    "\n",
    "clean_hw[\"Temperature\"] = hw_df['Temperature']\n",
    "clean_hw.rename(columns={0:\"Date\", 1:\"Hour\"}, inplace=True)"
   ]
  },
  {
   "cell_type": "code",
   "execution_count": null,
   "id": "1963dd61",
   "metadata": {},
   "outputs": [],
   "source": [
    "fig_1 = px.line(clean_hw, x='Hour', y='Temperature')\n",
    "fig_1"
   ]
  },
  {
   "cell_type": "code",
   "execution_count": null,
   "id": "cd96c201",
   "metadata": {},
   "outputs": [],
   "source": [
    "current_weather = requests.get(f\"http://api.weatherapi.com/v1/forecast.json?key={key}&q={lat},{lon}&days=1&aqi=no&alerts=no\").json()\n"
   ]
  },
  {
   "cell_type": "code",
   "execution_count": null,
   "id": "cb57bf02",
   "metadata": {},
   "outputs": [],
   "source": [
    "current_weather"
   ]
  },
  {
   "cell_type": "code",
   "execution_count": null,
   "id": "5ab7326f",
   "metadata": {},
   "outputs": [],
   "source": [
    "print(type(current_weather))"
   ]
  },
  {
   "cell_type": "code",
   "execution_count": null,
   "id": "df36608d",
   "metadata": {},
   "outputs": [],
   "source": [
    "# Extracting hour and temperature data from current forecast and storing in a dictionary\n",
    "# Converting that dictionary to a pandas DataFrame\n",
    "\n",
    "current_data = {\"Hour\": [x['time'] for x in current_weather['forecast']['forecastday'][0]['hour']], \"Temperature\": [y['temp_f'] for y in current_weather['forecast']['forecastday'][0]['hour']]}\n",
    "current_w = pd.DataFrame(current_data)\n",
    "current_w\n",
    "\n"
   ]
  },
  {
   "cell_type": "code",
   "execution_count": null,
   "id": "88b6c7df",
   "metadata": {},
   "outputs": [],
   "source": [
    "# This data cleaning should be functionalized\n",
    "# Then call the function within a callback function.\n",
    "# Think this could be just one function that has the split as an argument.\n",
    "\n",
    "clean_current = current_w['Hour'].str.split(expand=True)\n",
    "clean_current['Temperature'] = current_w['Temperature']\n",
    "clean_current.rename(columns={0:\"Date\", 1:\"Hour\"}, inplace=True)\n",
    "clean_current"
   ]
  },
  {
   "cell_type": "code",
   "execution_count": null,
   "id": "6157a7c7",
   "metadata": {},
   "outputs": [],
   "source": [
    "# Considering a data cleaning function:\n",
    "# This function would need to be added the utlils folder\n",
    "\n",
    "def weather_clean(df, splitter):\n",
    "    df1 = df['Hour'].str.split(splitter, expand=True)\n",
    "    df1['Temperature'] = df['Temperature']\n",
    "    df1.rename(columns={0:\"Date\", 1:\"Hour\"}, inplace=True)\n",
    "    return df1"
   ]
  },
  {
   "cell_type": "code",
   "execution_count": null,
   "id": "458fd8f0",
   "metadata": {},
   "outputs": [],
   "source": [
    "clean_historical_1 = weather_clean(hw_df, \"T\")\n",
    "\n",
    "clean_historical_1"
   ]
  },
  {
   "cell_type": "code",
   "execution_count": null,
   "id": "76516137",
   "metadata": {},
   "outputs": [],
   "source": [
    "current_clean_2 = weather_clean(current_w, \" \")\n",
    "current_clean_2"
   ]
  },
  {
   "cell_type": "code",
   "execution_count": null,
   "id": "0471bc19",
   "metadata": {},
   "outputs": [],
   "source": [
    "# Problem: need to get the 2 traces to have the correct hover data\n",
    "# Consider: Changing the data so that only the hour is present in the x-axis (year present in hover)\n",
    "fig_1.add_trace(\n",
    "    go.Scatter(\n",
    "        x=clean_current['Hour'],\n",
    "        y=clean_current['Temperature'],\n",
    "        mode=\"lines\",\n",
    "        line=go.scatter.Line(color=\"gray\"),\n",
    "        showlegend=True))\n",
    "\n"
   ]
  }
 ],
 "metadata": {
  "kernelspec": {
   "display_name": "Python 3 (ipykernel)",
   "language": "python",
   "name": "python3"
  },
  "language_info": {
   "codemirror_mode": {
    "name": "ipython",
    "version": 3
   },
   "file_extension": ".py",
   "mimetype": "text/x-python",
   "name": "python",
   "nbconvert_exporter": "python",
   "pygments_lexer": "ipython3",
   "version": "3.9.13"
  }
 },
 "nbformat": 4,
 "nbformat_minor": 5
}
